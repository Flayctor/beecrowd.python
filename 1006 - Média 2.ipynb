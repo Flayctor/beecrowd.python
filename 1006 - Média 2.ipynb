{
 "cells": [
  {
   "cell_type": "code",
   "execution_count": 1,
   "id": "9fb2b645-3c92-4587-9a05-1088fea12ff8",
   "metadata": {},
   "outputs": [
    {
     "name": "stdin",
     "output_type": "stream",
     "text": [
      " 11\n",
      " 10\n",
      " 10\n"
     ]
    },
    {
     "name": "stdout",
     "output_type": "stream",
     "text": [
      "Nota inválida, por gentileza verifique!\n"
     ]
    },
    {
     "name": "stdin",
     "output_type": "stream",
     "text": [
      " 11\n",
      " 10\n",
      " 10\n"
     ]
    },
    {
     "name": "stdout",
     "output_type": "stream",
     "text": [
      "Nota inválida, por gentileza verifique!\n"
     ]
    },
    {
     "name": "stdin",
     "output_type": "stream",
     "text": [
      " 10\n",
      " 10\n",
      " 10\n"
     ]
    },
    {
     "name": "stdout",
     "output_type": "stream",
     "text": [
      "MEDIA = 10.0\n"
     ]
    }
   ],
   "source": [
    "a=float(input())\n",
    "b=float(input())\n",
    "c=float(input())\n",
    "while a > 10 or b> 10 or c> 10:\n",
    "    print(\"Nota inválida, por gentileza verifique!\")\n",
    "    a=float(input())\n",
    "    b=float(input())\n",
    "    c=float(input())\n",
    "media=((a*2)+(b*3)+(c*5))/(10)\n",
    "print(f\"MEDIA = {media:.1f}\")"
   ]
  },
  {
   "cell_type": "code",
   "execution_count": null,
   "id": "9e3f6216-c567-4dbf-8360-c2f572c384b0",
   "metadata": {},
   "outputs": [],
   "source": []
  }
 ],
 "metadata": {
  "kernelspec": {
   "display_name": "Python 3 (ipykernel)",
   "language": "python",
   "name": "python3"
  },
  "language_info": {
   "codemirror_mode": {
    "name": "ipython",
    "version": 3
   },
   "file_extension": ".py",
   "mimetype": "text/x-python",
   "name": "python",
   "nbconvert_exporter": "python",
   "pygments_lexer": "ipython3",
   "version": "3.11.7"
  }
 },
 "nbformat": 4,
 "nbformat_minor": 5
}
